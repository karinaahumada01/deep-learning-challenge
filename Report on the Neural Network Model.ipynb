{
 "cells": [
  {
   "cell_type": "markdown",
   "id": "484924f5-08e6-4d7c-bee1-3872acff0336",
   "metadata": {},
   "source": [
    "# Alphabet Soup Deep Learning Model Performance Report\n",
    "## Overview of the Analysis\n",
    "\n",
    "The purpose of this analysis was to create a deep learning model capable of predicting whether an applicant funded by Alphabet Soup will be successful. By analyzing historical data, the model can help the nonprofit foundation make informed decisions on which organizations to fund, thereby optimizing resource allocation.\n",
    "\n"
   ]
  },
  {
   "cell_type": "markdown",
   "id": "e8ebed0b-7235-4b8d-86a0-8debd844843c",
   "metadata": {},
   "source": [
    "## Results\n",
    "\n",
    "### Data Preprocessing\n",
    "\n",
    "**1. Target Variable:**\n",
    "- The target variable for the model is IS_SUCCESSFUL, which indicates whether the funding led to a successful outcome (1 for success, 0 for failure).\n",
    "\n",
    "**2. Features:**\n",
    "- The features used for the model include all columns except the target variable and unnecessary identification columns:\n",
    "    - Examples: STATUS, ASK_AMT, APPLICATION_TYPE_T3, USE_CASE_ProductDev, and many others.\n",
    "- Features were one-hot encoded to handle categorical variables and scaled using StandardScaler to normalize numerical values.\n",
    "\n",
    "**3. Removed Variables:**\n",
    "\n",
    "- EIN and NAME were removed because they are identifiers and not relevant to the model's prediction.\n"
   ]
  },
  {
   "cell_type": "markdown",
   "id": "55c45c0f-a1a6-4638-827d-55c04f6520b7",
   "metadata": {},
   "source": [
    "### Compiling, Training, and Evaluating the Model\n",
    "\n",
    "**1. Model Architecture:**\n",
    "\n",
    "- **Number of Layers:** 4 hidden layers.\n",
    "- **Hidden Layer Neurons:**\n",
    "    - Layer 1: 80 neurons, ReLU activation.\n",
    "    - Layer 2: 30 neurons, ReLU activation.\n",
    "    - Layer 3: 60 neurons, ReLU activation.\n",
    "    - Layer 4: 40 neurons, ReLU activation.\n",
    "      \n",
    "- **Output Layer:** 1 neuron, sigmoid activation (for binary classification).\n",
    "- This architecture was chosen to balance complexity with performance without overfitting.\n",
    "\n",
    "**2. Training and Epochs:**\n",
    "\n",
    "- The model was trained for 200 epochs, with a batch size of 32, using the Adam optimizer and binary_crossentropy as the loss function.\n",
    "- Validation data was used to monitor model performance during training.\n",
    "\n",
    "**3. Performance:**\n",
    "\n",
    "- The best performance achieved was:\n",
    "    - Loss: 0.5958\n",
    "    - Accuracy: 72.49%\n",
    "- While this is close to the earlier peak accuracy (72.69%), the increase in epochs and added complexity did not significantly improve performance.\n",
    "  \n",
    "**4. Optimization Attempts:**\n",
    "\n",
    "- The feature scaling was updated to use a different format of StandardScaler, which improved accuracy from ~66% to ~72%.\n",
    "  - **Default Feature Scaling** ![Default Feature Scaling](ImagesforReport/Default_Feature_Scaling.png)\n",
    "  - **Revised Feature Scaling**![Revised Feature Scaling](ImagesforReport/Revised_Feature_Scaling.png)\n",
    "  - **66% Accuracy**![66% Accuracy](ImagesforReport/66_accuracy.png)\n",
    "  - **72% Accuracy**![72% Accuracy](ImagesforReport/72_accuracy.png)\n",
    "\n",
    "- Different numbers of layers (2 to 4, then 4 vs. 6) were tested, and 4 layers performed slightly better overall.\n",
    "- Increased epochs (up to 200) improved model stability but did not significantly enhance accuracy beyond ~72.5%.\n"
   ]
  },
  {
   "cell_type": "markdown",
   "id": "d13bf69d-6130-48f3-ad72-4741bfc1d43e",
   "metadata": {},
   "source": [
    "## Summary\n",
    "\n",
    "The deep learning model achieved a maximum accuracy of 72.49%, slightly below the target performance of 75%. Scaling the features significantly improved the model’s performance, demonstrating the importance of preprocessing in deep learning.\n",
    "\n",
    "### Recommendations for Further Improvement:\n",
    "\n",
    "**1. Alternative Models:**\n",
    "\n",
    "- Consider using a Random Forest Classifier or Gradient Boosting model, which could perform better with structured tabular data.\n",
    "- These other models can tackle small data imbalances and often require less tuning compared to neural networks.\n",
    "  \n",
    "**2. Feature Engineering:**\n",
    "\n",
    "- Analyze and remove repetitive or less informative parts to reduce messiness.\n",
    "- Analyze interactions between features to create new, meaningful variables.\n",
    "\n"
   ]
  },
  {
   "cell_type": "code",
   "execution_count": null,
   "id": "ea54ce18-ba4a-43f1-b700-cb3027813034",
   "metadata": {},
   "outputs": [],
   "source": []
  }
 ],
 "metadata": {
  "kernelspec": {
   "display_name": "Python 3 (ipykernel)",
   "language": "python",
   "name": "python3"
  },
  "language_info": {
   "codemirror_mode": {
    "name": "ipython",
    "version": 3
   },
   "file_extension": ".py",
   "mimetype": "text/x-python",
   "name": "python",
   "nbconvert_exporter": "python",
   "pygments_lexer": "ipython3",
   "version": "3.12.4"
  }
 },
 "nbformat": 4,
 "nbformat_minor": 5
}
